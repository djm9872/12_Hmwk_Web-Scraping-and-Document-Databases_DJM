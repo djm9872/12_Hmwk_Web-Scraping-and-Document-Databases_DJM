{
 "cells": [
  {
   "cell_type": "code",
   "execution_count": 1,
   "metadata": {},
   "outputs": [],
   "source": [
    "from splinter import Browser\n",
    "from bs4 import BeautifulSoup as bs\n",
    "import requests\n",
    "import pymongo\n",
    "import pandas as pd\n",
    "from pprint import pprint\n",
    "import time\n",
    "import re"
   ]
  },
  {
   "cell_type": "code",
   "execution_count": 2,
   "metadata": {},
   "outputs": [
    {
     "name": "stdout",
     "output_type": "stream",
     "text": [
      "/usr/local/bin/chromedriver\r\n"
     ]
    }
   ],
   "source": [
    "!which chromedriver"
   ]
  },
  {
   "cell_type": "code",
   "execution_count": 3,
   "metadata": {},
   "outputs": [],
   "source": [
    "executable_path = {'executable_path': '/usr/local/bin/chromedriver'}\n",
    "browser = Browser('chrome', **executable_path, headless=False)"
   ]
  },
  {
   "cell_type": "code",
   "execution_count": 4,
   "metadata": {},
   "outputs": [],
   "source": [
    "scrape_dict = {}"
   ]
  },
  {
   "cell_type": "markdown",
   "metadata": {},
   "source": [
    "### Nasa Mars News Scrape"
   ]
  },
  {
   "cell_type": "code",
   "execution_count": 5,
   "metadata": {},
   "outputs": [],
   "source": [
    "# URL of page to be scraped\n",
    "url = 'https://mars.nasa.gov/news/?page=0&per_page=40&order=publish_date+desc%2Ccreated_at+desc&search=&category=19%2C165%2C184%2C204&blank_scope=Latest'\n",
    "browser.visit(url)\n",
    "time.sleep(1)\n",
    "html = browser.html"
   ]
  },
  {
   "cell_type": "code",
   "execution_count": 6,
   "metadata": {},
   "outputs": [],
   "source": [
    "# Create BeautifulSoup object; parse with 'html.parser'\n",
    "soup = bs(html, 'html.parser')"
   ]
  },
  {
   "cell_type": "code",
   "execution_count": 7,
   "metadata": {},
   "outputs": [],
   "source": [
    "#Grab the Title and teaser paragraph for first article on the website\n",
    "title_results = soup.find_all('li', class_='slide')\n",
    "\n",
    "#Create list variables to store\n",
    "titles = []\n",
    "news_p = []\n",
    "\n",
    "#Loop through the title_results tags to identify the title and teaser body and append to respective lists above\n",
    "for items in title_results:\n",
    "    news_title = items.find('div', class_= 'content_title').a.text\n",
    "    titles.append(news_title)\n",
    "    \n",
    "    news_teaser = items.find('div', class_='article_teaser_body').text\n",
    "    news_p.append(news_teaser)\n",
    "\n",
    "#Print first item in each list to verify\n",
    "# print(titles[0])\n",
    "# print(news_p[0])\n",
    "\n",
    "#Set news_title and news_teaser variables with the first item in each list respectively\n",
    "scrape_dict['news_title'] = titles[0]\n",
    "scrape_dict['news_teaser'] = news_p[0]\n"
   ]
  },
  {
   "cell_type": "markdown",
   "metadata": {},
   "source": [
    "### JPL Mars Space - Featured Image Scrape"
   ]
  },
  {
   "cell_type": "code",
   "execution_count": 8,
   "metadata": {},
   "outputs": [],
   "source": [
    "url = 'https://www.jpl.nasa.gov/spaceimages/?search=&category=Mars'\n",
    "browser.visit(url)\n",
    "time.sleep(1)\n",
    "html = browser.html"
   ]
  },
  {
   "cell_type": "code",
   "execution_count": 9,
   "metadata": {},
   "outputs": [],
   "source": [
    "# Create BeautifulSoup object; parse with 'html.parser'\n",
    "soup = bs(html, 'html.parser')"
   ]
  },
  {
   "cell_type": "code",
   "execution_count": 10,
   "metadata": {},
   "outputs": [],
   "source": [
    "#Find the article tag with class carousel item\n",
    "img_results = soup.find_all('article', class_='carousel_item')\n",
    "\n",
    "#Within the article tag pull out the text that is in the \"style\" tag\n",
    "img = img_results[0]['style']\n",
    "\n",
    "#Separate the string to only the url image\n",
    "img_string = re.findall(\"'.*'\", img_results[0]['style'])[0].replace(\"'\",\"\")\n",
    "\n",
    "#Set variable with main url\n",
    "main_url = 'https://www.jpl.nasa.gov'\n",
    "\n",
    "#Concatenate the full url for the image\n",
    "scrape_dict['featured_image_url'] = main_url + img_string\n",
    "\n",
    "#Print out string to verify\n",
    "# print(featured_image_url)\n"
   ]
  },
  {
   "cell_type": "markdown",
   "metadata": {},
   "source": [
    "### Mars Weather Scrape"
   ]
  },
  {
   "cell_type": "code",
   "execution_count": 11,
   "metadata": {},
   "outputs": [],
   "source": [
    "url = 'https://twitter.com/marswxreport?lang=en'\n",
    "browser.visit(url)\n",
    "time.sleep(1)\n",
    "html = browser.html"
   ]
  },
  {
   "cell_type": "code",
   "execution_count": 12,
   "metadata": {},
   "outputs": [],
   "source": [
    "# Create BeautifulSoup object; parse with 'html.parser'\n",
    "soup = bs(html, 'html.parser')"
   ]
  },
  {
   "cell_type": "code",
   "execution_count": 13,
   "metadata": {},
   "outputs": [],
   "source": [
    "#Identify the html code that contains the tweets\n",
    "tweet_results = soup.find_all('div', class_='js-tweet-text-container')\n",
    "\n",
    "tweets = []\n",
    "\n",
    "#Loop through all the tweets and pull out the tweet paragraph and append to tweets list\n",
    "for tweet in tweet_results:\n",
    "    new_tweets = tweet.find('p').text\n",
    "    tweets.append(new_tweets)\n",
    "\n",
    "#Print first item in tweets list to verify it's pulling the first tweet    \n",
    "# print(tweets[0])\n",
    "\n",
    "#Set mars_weather variable with first item in tweets list\n",
    "scrape_dict['mars_weather'] = tweets[0]\n"
   ]
  },
  {
   "cell_type": "markdown",
   "metadata": {},
   "source": [
    "### Mars Facts Scrape"
   ]
  },
  {
   "cell_type": "code",
   "execution_count": 14,
   "metadata": {},
   "outputs": [],
   "source": [
    "url = 'https://space-facts.com/mars/'"
   ]
  },
  {
   "cell_type": "code",
   "execution_count": 15,
   "metadata": {},
   "outputs": [
    {
     "name": "stdout",
     "output_type": "stream",
     "text": [
      "[                      0                              1\n",
      "0  Equatorial Diameter:                       6,792 km\n",
      "1       Polar Diameter:                       6,752 km\n",
      "2                 Mass:  6.42 x 10^23 kg (10.7% Earth)\n",
      "3                Moons:            2 (Phobos & Deimos)\n",
      "4       Orbit Distance:       227,943,824 km (1.52 AU)\n",
      "5         Orbit Period:           687 days (1.9 years)\n",
      "6  Surface Temperature:                  -153 to 20 °C\n",
      "7         First Record:              2nd millennium BC\n",
      "8          Recorded By:           Egyptian astronomers]\n"
     ]
    }
   ],
   "source": [
    "#Read the url with pandas to find the table\n",
    "tables = pd.read_html(url)\n",
    "print(tables)"
   ]
  },
  {
   "cell_type": "code",
   "execution_count": 21,
   "metadata": {},
   "outputs": [
    {
     "name": "stdout",
     "output_type": "stream",
     "text": [
      "<table border=\"1\" class=\"dataframe\">\n",
      "  <thead>\n",
      "    <tr style=\"text-align: right;\">\n",
      "      <th></th>\n",
      "      <th>description</th>\n",
      "      <th>fact</th>\n",
      "    </tr>\n",
      "  </thead>\n",
      "  <tbody>\n",
      "    <tr>\n",
      "      <th>0</th>\n",
      "      <td>Equatorial Diameter:</td>\n",
      "      <td>6,792 km</td>\n",
      "    </tr>\n",
      "    <tr>\n",
      "      <th>1</th>\n",
      "      <td>Polar Diameter:</td>\n",
      "      <td>6,752 km</td>\n",
      "    </tr>\n",
      "    <tr>\n",
      "      <th>2</th>\n",
      "      <td>Mass:</td>\n",
      "      <td>6.42 x 10^23 kg (10.7% Earth)</td>\n",
      "    </tr>\n",
      "    <tr>\n",
      "      <th>3</th>\n",
      "      <td>Moons:</td>\n",
      "      <td>2 (Phobos &amp; Deimos)</td>\n",
      "    </tr>\n",
      "    <tr>\n",
      "      <th>4</th>\n",
      "      <td>Orbit Distance:</td>\n",
      "      <td>227,943,824 km (1.52 AU)</td>\n",
      "    </tr>\n",
      "    <tr>\n",
      "      <th>5</th>\n",
      "      <td>Orbit Period:</td>\n",
      "      <td>687 days (1.9 years)</td>\n",
      "    </tr>\n",
      "    <tr>\n",
      "      <th>6</th>\n",
      "      <td>Surface Temperature:</td>\n",
      "      <td>-153 to 20 °C</td>\n",
      "    </tr>\n",
      "    <tr>\n",
      "      <th>7</th>\n",
      "      <td>First Record:</td>\n",
      "      <td>2nd millennium BC</td>\n",
      "    </tr>\n",
      "    <tr>\n",
      "      <th>8</th>\n",
      "      <td>Recorded By:</td>\n",
      "      <td>Egyptian astronomers</td>\n",
      "    </tr>\n",
      "  </tbody>\n",
      "</table>\n"
     ]
    }
   ],
   "source": [
    "#Create a dataframe with the first table\n",
    "table_df = tables[0]\n",
    "\n",
    "#Rename the dataframe columns\n",
    "table_df.columns = ['description', 'fact']\n",
    "\n",
    "#Verify dataframe\n",
    "# table_html = table_df.to_html()\n",
    "# print(table_html)\n",
    "\n",
    "#Convert the dataframe back to html string \n",
    "scrape_dict['table'] = table_df.to_html()\n"
   ]
  },
  {
   "cell_type": "markdown",
   "metadata": {},
   "source": [
    "### Mars Hemispheres Scrape"
   ]
  },
  {
   "cell_type": "code",
   "execution_count": 17,
   "metadata": {},
   "outputs": [],
   "source": [
    "#Set list and dictionaries to store scraped data\n",
    "hemisphere_image_urls = []\n",
    "image_dict1 = {}\n",
    "image_dict2 = {}\n",
    "image_dict3 = {}\n",
    "image_dict4 = {}"
   ]
  },
  {
   "cell_type": "code",
   "execution_count": 18,
   "metadata": {},
   "outputs": [],
   "source": [
    "#Go to desired url and click on the required page link to get the first image\n",
    "url = 'https://astrogeology.usgs.gov/search/results?q=hemisphere+enhanced&k1=target&v1=Mars'\n",
    "browser.visit(url)\n",
    "time.sleep(2)\n",
    "browser.click_link_by_partial_text('Cerberus Hemisphere Enhanced')\n",
    "html = browser.html"
   ]
  },
  {
   "cell_type": "code",
   "execution_count": 19,
   "metadata": {},
   "outputs": [],
   "source": [
    "# Create BeautifulSoup object; parse with 'html.parser'\n",
    "soup = bs(html, 'html.parser')"
   ]
  },
  {
   "cell_type": "code",
   "execution_count": 20,
   "metadata": {},
   "outputs": [
    {
     "name": "stdout",
     "output_type": "stream",
     "text": [
      "{'news_title': 'Beyond Mars, the Mini MarCO Spacecraft Fall Silent', 'news_teaser': 'The first CubeSat mission to deep space may have reached their limit, but they could inspire future NASA missions.', 'featured_image_url': 'https://www.jpl.nasa.gov/spaceimages/images/wallpaper/PIA16613-1920x1200.jpg', 'mars_weather': 'Happy National Weatherpersons Day to all my meteorologist friends.  Stay classy Gale Crater. https://en.wikipedia.org/wiki/National_Weatherperson%27s_Day\\xa0…pic.twitter.com/IifCvlawci', 'table':             description                           fact\n",
      "0  Equatorial Diameter:                       6,792 km\n",
      "1       Polar Diameter:                       6,752 km\n",
      "2                 Mass:  6.42 x 10^23 kg (10.7% Earth)\n",
      "3                Moons:            2 (Phobos & Deimos)\n",
      "4       Orbit Distance:       227,943,824 km (1.52 AU)\n",
      "5         Orbit Period:           687 days (1.9 years)\n",
      "6  Surface Temperature:                  -153 to 20 °C\n",
      "7         First Record:              2nd millennium BC\n",
      "8          Recorded By:           Egyptian astronomers, 'hemisphere_image_urls': [{'title': 'Cerberus Hemisphere Enhanced', 'img_url': 'http://astropedia.astrogeology.usgs.gov/download/Mars/Viking/cerberus_enhanced.tif/full.jpg'}, {'title': 'Schiaparelli Hemisphere Enhanced', 'img_url': 'http://astropedia.astrogeology.usgs.gov/download/Mars/Viking/schiaparelli_enhanced.tif/full.jpg'}, {'title': 'Syrtis Major Hemisphere Enhanced', 'img_url': 'http://astropedia.astrogeology.usgs.gov/download/Mars/Viking/syrtis_major_enhanced.tif/full.jpg'}, {'title': 'Valles Marineris Hemisphere Enhanced', 'img_url': 'http://astropedia.astrogeology.usgs.gov/download/Mars/Viking/valles_marineris_enhanced.tif/full.jpg'}]}\n"
     ]
    }
   ],
   "source": [
    "#Identify the html tag for the needed information\n",
    "container = soup.find('div', class_='container')\n",
    "\n",
    "#Find the title of the desired image and append to a dictionary\n",
    "name = container.find('h2', class_='title').text\n",
    "image_dict1['title'] = name\n",
    "\n",
    "#Find the image url and append to the dictionary\n",
    "image = container.find('div', class_='downloads').li.a['href']\n",
    "image_dict1['img_url'] = image\n",
    "\n",
    "#Append the dictionary to the list\n",
    "hemisphere_image_urls.append(image_dict1)\n",
    "\n",
    "#Go back one page in the browser and then click into the next page\n",
    "browser.click_link_by_partial_text('Back')\n",
    "time.sleep(1)\n",
    "browser.click_link_by_partial_text('Schiaparelli Hemisphere Enhanced')\n",
    "\n",
    "#Repeat steps above three more times to get all the titles and images\n",
    "html = browser.html\n",
    "soup = bs(html, 'html.parser')\n",
    "\n",
    "container = soup.find('div', class_='container')\n",
    "\n",
    "name = container.find('h2', class_='title').text\n",
    "image_dict2['title'] = name\n",
    "\n",
    "image = container.find('div', class_='downloads').li.a['href']\n",
    "image_dict2['img_url'] = image\n",
    "\n",
    "hemisphere_image_urls.append(image_dict2)\n",
    "\n",
    "\n",
    "browser.click_link_by_partial_text('Back')\n",
    "time.sleep(1)\n",
    "browser.click_link_by_partial_text('Syrtis Major Hemisphere Enhanced')\n",
    "\n",
    "html = browser.html\n",
    "soup = bs(html, 'html.parser')\n",
    "\n",
    "container = soup.find('div', class_='container')\n",
    "\n",
    "name = container.find('h2', class_='title').text\n",
    "image_dict3['title'] = name\n",
    "\n",
    "image = container.find('div', class_='downloads').li.a['href']\n",
    "image_dict3['img_url'] = image\n",
    "\n",
    "hemisphere_image_urls.append(image_dict3)\n",
    "\n",
    "browser.click_link_by_partial_text('Back')\n",
    "time.sleep(1)\n",
    "browser.click_link_by_partial_text('Valles Marineris Hemisphere Enhanced')\n",
    "\n",
    "html = browser.html\n",
    "soup = bs(html, 'html.parser')\n",
    "\n",
    "container = soup.find('div', class_='container')\n",
    "\n",
    "name = container.find('h2', class_='title').text\n",
    "image_dict4['title'] = name\n",
    "\n",
    "image = container.find('div', class_='downloads').li.a['href']\n",
    "image_dict4['img_url'] = image\n",
    "\n",
    "hemisphere_image_urls.append(image_dict4)\n",
    "\n",
    "scrape_dict['hemisphere_image_urls'] = hemisphere_image_urls\n",
    "\n",
    "#Print hemispere_image_urls to verify and print scrape_dict to make sure everything is in the master dictionary\n",
    "# print(hemisphere_image_urls)\n",
    "print(scrape_dict)"
   ]
  }
 ],
 "metadata": {
  "kernelspec": {
   "display_name": "tuesday_pandas",
   "language": "python",
   "name": "tuesday_pandas"
  },
  "language_info": {
   "codemirror_mode": {
    "name": "ipython",
    "version": 3
   },
   "file_extension": ".py",
   "mimetype": "text/x-python",
   "name": "python",
   "nbconvert_exporter": "python",
   "pygments_lexer": "ipython3",
   "version": "3.6.7"
  }
 },
 "nbformat": 4,
 "nbformat_minor": 2
}
